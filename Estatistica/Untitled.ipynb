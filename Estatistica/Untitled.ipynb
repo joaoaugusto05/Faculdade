{
 "cells": [
  {
   "cell_type": "code",
   "execution_count": 2,
   "id": "5931bcdd",
   "metadata": {},
   "outputs": [],
   "source": [
    "from scipy import stats\n",
    "import pandas as pd\n",
    "import numpy as np"
   ]
  },
  {
   "cell_type": "code",
   "execution_count": 4,
   "id": "c6a943eb",
   "metadata": {},
   "outputs": [],
   "source": [
    "init = 8\n",
    "jump = 6"
   ]
  },
  {
   "cell_type": "code",
   "execution_count": 5,
   "id": "0ec33640",
   "metadata": {},
   "outputs": [],
   "source": [
    "df = pd.read_csv('Titanic.csv')"
   ]
  },
  {
   "cell_type": "code",
   "execution_count": 6,
   "id": "0f4e29b5",
   "metadata": {},
   "outputs": [],
   "source": [
    "df = df[(df['PassengerId'] > init - 1) & ((df['PassengerId']-init)%jump ==0)]"
   ]
  },
  {
   "cell_type": "code",
   "execution_count": 7,
   "id": "1d581797",
   "metadata": {},
   "outputs": [],
   "source": [
    "Survived = df[df['Survived'] == 1]\n",
    "Dead = df[df['Survived'] == 0]"
   ]
  },
  {
   "cell_type": "code",
   "execution_count": 24,
   "id": "4ade3132",
   "metadata": {},
   "outputs": [
    {
     "data": {
      "text/plain": [
       "Ttest_indResult(statistic=-0.20669956859644034, pvalue=0.8366979507639037)"
      ]
     },
     "execution_count": 24,
     "metadata": {},
     "output_type": "execute_result"
    }
   ],
   "source": [
    "stats.ttest_ind(Survived['Age'],Dead['Age'], equal_var = False)"
   ]
  },
  {
   "cell_type": "code",
   "execution_count": null,
   "id": "0e33ef88",
   "metadata": {},
   "outputs": [],
   "source": []
  }
 ],
 "metadata": {
  "kernelspec": {
   "display_name": "Python 3 (ipykernel)",
   "language": "python",
   "name": "python3"
  },
  "language_info": {
   "codemirror_mode": {
    "name": "ipython",
    "version": 3
   },
   "file_extension": ".py",
   "mimetype": "text/x-python",
   "name": "python",
   "nbconvert_exporter": "python",
   "pygments_lexer": "ipython3",
   "version": "3.8.10"
  }
 },
 "nbformat": 4,
 "nbformat_minor": 5
}
